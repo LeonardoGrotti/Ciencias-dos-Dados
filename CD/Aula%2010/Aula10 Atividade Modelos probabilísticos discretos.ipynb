{
 "cells": [
  {
   "cell_type": "markdown",
   "metadata": {},
   "source": [
    "___\n",
    "# Atividade: Modelos probabilísticos discretos e Dados\n",
    "___\n",
    "\n",
    "## Aula 10\n",
    "\n",
    "**Referência de Leitura:**\n",
    "1. Magalhães e Lima (7ª. Edição): Seções 3.2 e 3.3\n",
    "\n",
    "**Hoje:**\n",
    "1.\tDescrever modelos discretos quanto aos resultados teóricos.\n",
    "2.\tExplicar a utilização de modelos probabilísticos no contexto da literatura estatística.\n",
    "3.\tContrastar resultados teóricos e empíricos.\n",
    "4.\tFechamento do conteúdo.\n",
    "\n",
    "**Próxima aula:**\n",
    "1. Leitura prévia necessária: Magalhães e Lima (7ª. Edição): Seção 5.1 (pág. 137) e Seção 5.2 (pág. 146).\n",
    "___"
   ]
  },
  {
   "cell_type": "code",
   "execution_count": 134,
   "metadata": {
    "collapsed": false
   },
   "outputs": [],
   "source": [
    "%matplotlib inline\n",
    "import pandas as pd\n",
    "import matplotlib.pyplot as plt\n",
    "\n",
    "from scipy import stats #importa apenas as funções de estatísticas da biblioteca SciPy.\n",
    "import itertools #importante para gerar todos os resultados possíveis!!\n"
   ]
  },
  {
   "cell_type": "markdown",
   "metadata": {},
   "source": [
    "___\n",
    "## <font color='blue'>Exercício 1</font>\n",
    "\n",
    "Um resistor de 100K Ohms comprado na Santa Efigênia tem probabilidade de falha de 5%, segundo um fabricante ruim.\n",
    "\n",
    "Ainda, assuma os resistores falham de forma independente entre si.\n",
    "\n",
    "Um aluno de engenharia compra um pacote contendo $n$ resistores.\n",
    "\n",
    "1. Assuma $n=3$ e faça os itens a seguir.\n",
    "  1. Monte o espaço amostral que combine todos os resultados possíveis de Falha e não Falha desses $n$ resistores. Ainda, calcule a probabilidade de cada resultado do espaço amostral acontecer.\n",
    "  2. Se $Y$ representa o número de resistores que falham em um pacotinho com $n$ resistores, então construa a distribuição de probabilidades de $Y$.\n",
    "  3. Calcule a média e o desvio padrão de $Y$. Interprete os resultados.\n",
    "    \n",
    "2. Assuma $n=7$ e repita os itens A) a C) anteriores. No caso de $n=7$ ou maiores quantidades de resistores em um pacotinho, qual a viabilidade de construir a distribuição de probabilidades do número de resistores com defeitos quando $n$ não é pequeno?\n",
    "    \n",
    "3. Encontre a distribuição de probabilidades de cada possível valor de $Y$ utilizando a distribuição Binomial para $n=3$ e $n=7$. Calcule também $E(X)$ e $Var(X)$. Compare com as distribuições de probabilidades obtidas nos itens anteriores e discuta porque esses valores são iguais ou diferentes!\n",
    "    \n",
    "> **DISTRIBUIÇÃO BINOMIAL - TEORIA:**\n",
    "\n",
    "> É responsável por modelar uma variável $Y$ definida pelo Número de sucessos em $n$ tentativas, cuja probabilidade de sucesso é dada por $p$. Assim, dizemos que $Y$~$Bin(n,p)$ e lê-se: $Y$ segue uma distribuição binomial com $n$ tentativas e $p$ como probabilidade de sucesso. \n",
    "\n",
    "> A função de probabilidade nesse caso é dada por:\n",
    "$P(Y=y)=\\left(\n",
    "\\begin{array}{c}\n",
    "    n \\\\\n",
    "    y\n",
    "\\end{array}\\right) p^y (1-p)^{(n-y)}$\n",
    "\n",
    "> Para um experimento ter as probabilidade dos números de sucessos modeladas por uma distribuição Binomial, o mesmo precisa ter as seguintes propriedades:\n",
    "* é uma contagem de $n$ repetições (ou tentativas ou ensaios) idênticas;\n",
    "* cada repetição tem apenas 2 resultados possíveis: um é denominado sucesso e o outro, fracasso;\n",
    "* a probabilidade de sucesso para cada ensaio é denominada $p$ e será constante em cada repetição. Então, a probabilidade de fracasso $(1-p)$ também não varia de tentativa para tentativa;\n",
    "* As tentativas são independentes.\n",
    "\n",
    "\n",
    "> **DISTRIBUIÇÃO BINOMIAL - PYTHON:** <sup> [https://en.wikipedia.org/wiki/SciPy]\n",
    "\n",
    "> Algumas funções úteis para desenvolver seu código: <sup> [http://docs.scipy.org/doc/scipy-0.16.1/reference/generated/scipy.stats.binom.html]\n",
    "* $P(Y=y)$: `stats.binom.pmf(y, n, p)`\n",
    "* $P(Y\\leq y)$: `stats.binom.cdf(y, n, p)`\n",
    "* $E(X)$ e $Var(X)$: `stats.binom.stats(n, p, moments='mv')`\n"
   ]
  },
  {
   "cell_type": "code",
   "execution_count": 135,
   "metadata": {
    "collapsed": false,
    "scrolled": false
   },
   "outputs": [
    {
     "name": "stdout",
     "output_type": "stream",
     "text": [
      "RESULTADOS n=3\n",
      "\n",
      "Resistores ruins:  0  Probabilidade 0.85737 \n",
      "Resistores ruins:  1  Probabilidade 0.13537 \n",
      "Resistores ruins:  2  Probabilidade 0.00713 \n",
      "Resistores ruins:  3  Probabilidade 0.00013 \n",
      "\n",
      "Média: 0.15\n",
      "\n",
      "Variância: 0.1425\n",
      "Desvio Padrão: 0.37749172176353746\n"
     ]
    }
   ],
   "source": [
    "#item 1\n",
    "print('RESULTADOS n=3')\n",
    "print()\n",
    "n=3\n",
    "possibilidades = [\"NF\", \"F\"]\n",
    "prob = {\"NF\": 0.05, \"F\":0.95}\n",
    "arranjos = itertools.product(possibilidades, repeat=n)\n",
    "espaco_amostral = list(arranjos)\n",
    "\n",
    "\n",
    "prob_linhas = []\n",
    "\n",
    "for res in espaco_amostral:\n",
    "    p = 1.0\n",
    "    for e in res:\n",
    "        p*=prob[e]\n",
    "    prob_linhas.append(p)\n",
    "\n",
    "\n",
    "    \n",
    "valores_probabilidades={}\n",
    "for i in range(len(espaco_amostral)):\n",
    "    proba = espaco_amostral[i].count(\"NF\")\n",
    "    if proba in valores_probabilidades:\n",
    "        valores_probabilidades[proba] += prob_linhas[i]\n",
    "    else:\n",
    "        valores_probabilidades[proba] = prob_linhas[i]\n",
    "        \n",
    "        \n",
    "for k in valores_probabilidades:\n",
    "    print(\"Resistores ruins: \", k, \" Probabilidade\", \"%6.5f \"%valores_probabilidades[k])\n",
    "    \n",
    "    \n",
    "    \n",
    "#MÉDIA    \n",
    "soma=0\n",
    "media=0\n",
    "for i in range (len(valores_probabilidades)):\n",
    "    media+=valores_probabilidades[i]*i\n",
    "    \n",
    "print()\n",
    "print('Média:',media)\n",
    "print()\n",
    "\n",
    "var=0\n",
    "\n",
    "#DESVIO PADRÃO\n",
    "for i in valores_probabilidades:\n",
    "    var += (i-media)**2*valores_probabilidades[i]\n",
    "    #variancia=var/(len(valores_probabilidades)-1)\n",
    "    \n",
    "print('Variância:',var)\n",
    "print('Desvio Padrão:',var**(1/2))\n",
    "\n"
   ]
  },
  {
   "cell_type": "code",
   "execution_count": 136,
   "metadata": {
    "collapsed": false
   },
   "outputs": [
    {
     "name": "stdout",
     "output_type": "stream",
     "text": [
      "RESULTADOS n=7\n",
      "\n",
      "Resistores ruins:  0  Probabilidade 0.69834 \n",
      "Resistores ruins:  1  Probabilidade 0.25728 \n",
      "Resistores ruins:  2  Probabilidade 0.04062 \n",
      "Resistores ruins:  3  Probabilidade 0.00356 \n",
      "Resistores ruins:  4  Probabilidade 0.00019 \n",
      "Resistores ruins:  5  Probabilidade 0.00001 \n",
      "Resistores ruins:  6  Probabilidade 0.00000 \n",
      "Resistores ruins:  7  Probabilidade 0.00000 \n",
      "\n",
      "Média: 0.35\n",
      "\n",
      "Variância: 0.37249999999999994\n",
      "Desvio Padrão: 0.6103277807866851\n"
     ]
    }
   ],
   "source": [
    "#ITEM 2\n",
    "print('RESULTADOS n=7')\n",
    "print()\n",
    "n=7\n",
    "possibilidades = [\"NF\", \"F\"]\n",
    "prob = {\"NF\": 0.05, \"F\":0.95}\n",
    "arranjos = itertools.product(possibilidades, repeat=n)\n",
    "espaco_amostral = list(arranjos)\n",
    "\n",
    "\n",
    "prob_linhas = []\n",
    "\n",
    "for res in espaco_amostral:\n",
    "    p = 1.0\n",
    "    for e in res:\n",
    "        p*=prob[e]\n",
    "    prob_linhas.append(p)\n",
    "\n",
    "\n",
    "    \n",
    "valores_probabilidades={}\n",
    "for i in range(len(espaco_amostral)):\n",
    "    proba = espaco_amostral[i].count(\"NF\")\n",
    "    if proba in valores_probabilidades:\n",
    "        valores_probabilidades[proba] += prob_linhas[i]\n",
    "    else:\n",
    "        valores_probabilidades[proba] = prob_linhas[i]\n",
    "        \n",
    "        \n",
    "for k in valores_probabilidades:\n",
    "    print(\"Resistores ruins: \", k, \" Probabilidade\", \"%6.5f \"%valores_probabilidades[k])\n",
    "    \n",
    "    \n",
    "    \n",
    "#MÉDIA    \n",
    "soma=0\n",
    "for i in range (len(valores_probabilidades)):\n",
    "    soma+=valores_probabilidades[i]*i\n",
    "\n",
    "    \n",
    "\n",
    "\n",
    "print()\n",
    "print('Média:',soma)\n",
    "print()\n",
    "\n",
    "\n",
    "var=0\n",
    "\n",
    "#DESVIO PADRÃO\n",
    "for i in valores_probabilidades:\n",
    "    var += (i-media)**2*valores_probabilidades[i]\n",
    "    #variancia=var/(len(valores_probabilidades)-1)\n",
    "    \n",
    "print('Variância:',var)\n",
    "print('Desvio Padrão:',var**(1/2))\n"
   ]
  },
  {
   "cell_type": "code",
   "execution_count": null,
   "metadata": {
    "collapsed": true
   },
   "outputs": [],
   "source": []
  },
  {
   "cell_type": "markdown",
   "metadata": {
    "collapsed": true
   },
   "source": [
    "___\n",
    "## <font color='blue'>Exercício 2</font>\n",
    "\n",
    "Uma fábrica produz determinado veículo. O gerente de vendas fechou um negócio que implica na produção de pelo menos 110 unidades nos próximos dois meses. Para isso, será construída uma nova linha de montagem com capacidade para produzir em média 50 veículos por mês (considere meses de 30 dias). A linha funcionará ininterruptamente. Além disso, apenas um veículo é produzido por vez. Considere que um modelo Poisson seja adequado para a quantidade de veículos produzidos.\n",
    "   1. Qual a probabilidade  da produção ser igual a 100 veículos nos próximos dois meses?\n",
    "   2. Qual a probabilidade  da produção ser de pelo menos 100 veículos nos próximos dois meses?\n",
    "   3. Qual a probabilidade da produção ser entre 100 e 110 veículos nos próximos dois meses?\n",
    "   4. Se forem produzidos de pelo menos 100 veículos no próximo mês, qual a probabilidade do gerente cumprir a meta negociada?\n",
    "   5. Caso o prazo seja cumprido, o lucro será da ordem de $250$ mil, caso não seja, o lucro cai para $200$ mil. Qual é o lucro esperado e seu desvio-padrão?\n",
    "\n",
    "**Observação:** Explore os comandos de `stats.poisson`. <sup>[http://docs.scipy.org/doc/scipy/reference/generated/scipy.stats.poisson.html]\n"
   ]
  },
  {
   "cell_type": "code",
   "execution_count": null,
   "metadata": {
    "collapsed": true
   },
   "outputs": [],
   "source": []
  },
  {
   "cell_type": "markdown",
   "metadata": {},
   "source": [
    "___\n",
    "## <font color='blue'>Exercício 3</font> \n",
    "### <font color='red'>**Check para dia 13/09 em DUPLA **</font>\n",
    "\n",
    "Esse exercício irá explorar uma modelagem de dados reais.\n",
    "\n",
    "> **Confira alguns itens obrigatórios verificados durante a vistoria do Detran**\n",
    "\n",
    "> *Todos os veículos, novos ou velhos, precisam passar por uma vistoria todos os anos. (...) O motorista precisa estar atento a alguns itens obrigatórios. Tudo deve funcionar perfeitamente, apresentar bom estado de conservação e estar dentro do prazo de validade.*\n",
    "\n",
    "> <sup>Fonte: http://extra.globo.com/noticias/brasil/transito-seguro/confira-alguns-itens-obrigatorios-verificados-durante-vistoria-do-detran-10190355.html</sup>\n",
    "\n",
    "Essa matéria lista 14 itens que são inspecionados pelo Detran, dentre os quais têm-se: extintor de incêndio deve estar dentro do prazo de validade; pneus devem estar em bom estado de conservação; buzina deve funcionar perfeitamente; e cintos de segurança para todos os ocupantes do carro. Se, no final das contas, todos os 14 itens estiverem funcionando perfeitamente, o motorista irá feliz para casa assegurado de que seu carro está sem problemas com a vistoria.\n",
    "\n",
    "1. A base de dados `Carros.txt` apresenta, para cada um dos três mil carros de passeio vistoriados, duas informações: tipo de carro (1: Popular e 2: Não Popular) e quantidade de itens vistoriados em não conformidade (que pode variar de 0 a 14). \n",
    "    1. Considerando todos os carros, analise a quantidade de itens vistoriados em não conformidade. Pela tabela de frequências relativas, calcule a média e variância dessa quantidade. Interprete-os.\n",
    "    2. Assuma que a variável *Quantidade de itens em não conformidade* possa ser ajustada pelo modelo Binomial com parâmetros $n=14$ e $p=0,10$. Interprete esses parâmetros para o problema em questão e, ainda, discuta se as propriedades da distribuição Binomial estão satisfeitas para o problema aqui me questão.\n",
    "    \n",
    "    **Independente da sua resposta anterior, considere que a distribuição binomial seja adequada para modelar a variável de interesse nos próximos itens!**\n",
    "    3. Utilizando o método `stats.binom.pmf`, obtenha a probabilidade de cada uma das quantidades de itens em não conformidade quando $n=14$ e $p=0,10$. Calcule o valor esperado e a variância da quantidade de itens em não conformidade utilizando o método `stats.binom.stats` e via resultado da Tabela 4.4 do Magalhães e Lima (pág. 125).\n",
    "    4. Compare as probabilidades teóricas com as frequências relativas observadas nos dados. Para isso, tem-se, por exemplo, as duas opções abaixo para comparar se os resultados empíricos se encaixam com o modelo teórico proposto. \n",
    "        - A primeira opção gráfica contrasta a frequência relativa e a probabilidade teórica para uma determinada quantidade de itens em não conformidade! Vide Figura 3.4 do livro Magalhães e Lima (pág. 87). Ou seja, essa opção contrasta a frequência relativa em um valor de $y$ e a probabilidade pontual $P(Y=y)$.\n",
    "        - A segunda contrasta a frequência relativa acumulada com a probabilidade acumulada até determinada quantidade de itens em não conformidade. Ou seja, compara a frequência relativa acumulada até $y$ com a probabilidade acumulada $P(Y\\leq y)$.\n",
    "    Construa os gráficos de acordo com as duas opções e refine sua conclusão quanto ao uso do modelo teórico para ajustar a variável em questão!\n",
    "    5. Na prática, qual a necessidade de um modelo probabilístico já que se têm os dados observados?\n",
    "    6. Considerando apenas os carros populares, o modelo Binomial com parâmetros $n=14$ e $p=0,10$ é adequado para ajustar a variável Quantidade de itens em não conformidade? Se sim, justifique; caso não, sugira novos valores para os parâmetros da distribuição ajuste aos dados."
   ]
  },
  {
   "cell_type": "code",
   "execution_count": 137,
   "metadata": {
    "collapsed": false
   },
   "outputs": [
    {
     "name": "stdout",
     "output_type": "stream",
     "text": [
      "Esperamos trabalhar no diretório\n",
      "/home/moreira/Desktop/Gabriel/Insper/2°Semestre/Ciência dos Dados/Aula 10\n"
     ]
    },
    {
     "data": {
      "text/plain": [
       "['Tipo', 'Quantidade']"
      ]
     },
     "execution_count": 137,
     "metadata": {},
     "output_type": "execute_result"
    }
   ],
   "source": [
    "import os\n",
    "print('Esperamos trabalhar no diretório')\n",
    "print(os.getcwd())\n",
    "carros = pd.read_table('Carros.txt', sep=' ')\n",
    "list(carros)"
   ]
  },
  {
   "cell_type": "code",
   "execution_count": 144,
   "metadata": {
    "collapsed": false
   },
   "outputs": [
    {
     "name": "stdout",
     "output_type": "stream",
     "text": [
      "1    0.316667\n",
      "0    0.288000\n",
      "2    0.221333\n",
      "3    0.108333\n",
      "4    0.046333\n",
      "5    0.015667\n",
      "6    0.002667\n",
      "7    0.000667\n",
      "8    0.000333\n",
      "Name: Quantidade, dtype: float64\n",
      "\n",
      "Média: 1.3713333333333333\n",
      "Variância: 1.5799715460709343\n",
      "Desvio Padrão: 1.2569691905814295\n"
     ]
    }
   ],
   "source": [
    "x = carros.Quantidade.value_counts(True)\n",
    "print(x)\n",
    "\n",
    "print()\n",
    "\n",
    "media = carros.Quantidade.mean()\n",
    "var = carros.Quantidade.var()\n",
    "print('Média:',media)\n",
    "    \n",
    "print('Variância:',var)\n",
    "print('Desvio Padrão:',var**(1/2))\n"
   ]
  },
  {
   "cell_type": "code",
   "execution_count": 139,
   "metadata": {
    "collapsed": false,
    "scrolled": false
   },
   "outputs": [
    {
     "name": "stdout",
     "output_type": "stream",
     "text": [
      "Falhas 0 ---------Probabilidade 0.22876792455\n",
      "Falhas 1 ---------Probabilidade 0.355861215966\n",
      "Falhas 2 ---------Probabilidade 0.257010878198\n",
      "Falhas 3 ---------Probabilidade 0.114227056977\n",
      "Falhas 4 ---------Probabilidade 0.034902711854\n",
      "Falhas 5 ---------Probabilidade 0.00775615818978\n",
      "Falhas 6 ---------Probabilidade 0.00129269303163\n",
      "Falhas 7 ---------Probabilidade 0.00016415149608\n",
      "Falhas 8 ---------Probabilidade 1.595917323e-05\n",
      "Falhas 9 ---------Probabilidade 1.18216098e-06\n",
      "Falhas 10 ---------Probabilidade 6.567561e-08\n",
      "Falhas 11 ---------Probabilidade 2.65356e-09\n",
      "Falhas 12 ---------Probabilidade 7.371e-11\n",
      "Falhas 13 ---------Probabilidade 1.26e-12\n",
      "Falhas 14 ---------Probabilidade 1e-14\n"
     ]
    }
   ],
   "source": [
    "lista_p=[]\n",
    "for i in range(15):\n",
    "    y = stats.binom.pmf(i,14,0.1)\n",
    "    lista_p.append(y)\n",
    "    print('Falhas',i,'---------Probabilidade',y)"
   ]
  },
  {
   "cell_type": "code",
   "execution_count": 158,
   "metadata": {
    "collapsed": false
   },
   "outputs": [
    {
     "name": "stdout",
     "output_type": "stream",
     "text": [
      "Média 1.4000000000000001\n",
      "Variância: 1.2600000000000002\n"
     ]
    }
   ],
   "source": [
    "#MÉDIA  e  VARIÂNCIA\n",
    "\n",
    "esp, var = stats.binom.stats(14,0.1,moments='mv')\n",
    "print('Média',esp)\n",
    "print('Variância:',var)"
   ]
  },
  {
   "cell_type": "markdown",
   "metadata": {},
   "source": [
    "A probabilidade real fica próxima da probabilidade teórica dada pelo modelo Binomial, porém eles não são satisfatórios pois existem diferentes probabilidades e variáveis no mundo real. "
   ]
  },
  {
   "cell_type": "code",
   "execution_count": 140,
   "metadata": {
    "collapsed": false
   },
   "outputs": [
    {
     "data": {
      "image/png": "[encoded data removed]",
      "text/plain": [
       "<matplotlib.figure.Figure at 0x7f1c00bba278>"
      ]
     },
     "metadata": {},
     "output_type": "display_data"
    }
   ],
   "source": [
    "\n",
    "x2 = x.tolist()\n",
    "plt.plot(x2,'o')\n",
    "plt.plot(lista_p,'o')\n",
    "plt.show()"
   ]
  },
  {
   "cell_type": "code",
   "execution_count": 160,
   "metadata": {
    "collapsed": false
   },
   "outputs": [
    {
     "data": {
      "text/plain": [
       "2    0.295000\n",
       "1    0.283889\n",
       "3    0.166667\n",
       "0    0.149444\n",
       "4    0.072778\n",
       "5    0.026111\n",
       "6    0.004444\n",
       "7    0.001111\n",
       "8    0.000556\n",
       "Name: Quantidade, dtype: float64"
      ]
     },
     "execution_count": 160,
     "metadata": {},
     "output_type": "execute_result"
    }
   ],
   "source": [
    "#carros populares\n",
    "\n",
    "carros_pop = carros[(carros.Tipo == 1)]\n",
    "z = carros_pop.Quantidade.value_counts(True)\n",
    "z"
   ]
  },
  {
   "cell_type": "code",
   "execution_count": 142,
   "metadata": {
    "collapsed": false
   },
   "outputs": [
    {
     "name": "stdout",
     "output_type": "stream",
     "text": [
      "Falhas 0 ---------Probabilidade 0.133429078983\n",
      "Falhas 1 ---------Probabilidade 0.289044979413\n",
      "Falhas 2 ---------Probabilidade 0.290713830334\n",
      "Falhas 3 ---------Probabilidade 0.179933733324\n",
      "Falhas 4 ---------Probabilidade 0.0765653357159\n",
      "Falhas 5 ---------Probabilidade 0.0236945842631\n",
      "Falhas 6 ---------Probabilidade 0.0054995513128\n",
      "Falhas 7 ---------Probabilidade 0.00097253695271\n",
      "Falhas 8 ---------Probabilidade 0.000131674316057\n",
      "Falhas 9 ---------Probabilidade 1.35830318334e-05\n",
      "Falhas 10 ---------Probabilidade 1.05088121575e-06\n",
      "Falhas 11 ---------Probabilidade 5.91299949236e-08\n",
      "Falhas 12 ---------Probabilidade 2.2873612355e-09\n",
      "Falhas 13 ---------Probabilidade 5.44513067252e-11\n",
      "Falhas 14 ---------Probabilidade 6.01820777069e-13\n"
     ]
    }
   ],
   "source": [
    "lista_p3=[]\n",
    "for i in range(15):\n",
    "    y = stats.binom.pmf(i,14,0.134)\n",
    "    lista_p3.append(y)\n",
    "    print('Falhas',i,'---------Probabilidade',y)\n",
    "    \n",
    "    \n",
    "    "
   ]
  },
  {
   "cell_type": "code",
   "execution_count": 143,
   "metadata": {
    "collapsed": false
   },
   "outputs": [
    {
     "data": {
      "image/png": "[encoded data removed]",
      "text/plain": [
       "<matplotlib.figure.Figure at 0x7f1c00bd5358>"
      ]
     },
     "metadata": {},
     "output_type": "display_data"
    }
   ],
   "source": [
    "z2 = z.tolist()\n",
    "plt.plot(z2,'o')\n",
    "plt.plot(lista_p3,'o')\n",
    "plt.show()"
   ]
  },
  {
   "cell_type": "markdown",
   "metadata": {},
   "source": [
    "Para que os valores fiquem mais próximos dos reais, p deve ser 0.13. Os modelos, por sua vez, são importantes pois eles extrapolam a realidade, sendo possível calcular probabilidades além do espaço amostral."
   ]
  },
  {
   "cell_type": "code",
   "execution_count": null,
   "metadata": {
    "collapsed": true
   },
   "outputs": [],
   "source": []
  }
 ],
 "metadata": {
  "anaconda-cloud": {},
  "kernelspec": {
   "display_name": "Python [Root]",
   "language": "python",
   "name": "Python [Root]"
  },
  "language_info": {
   "codemirror_mode": {
    "name": "ipython",
    "version": 3
   },
   "file_extension": ".py",
   "mimetype": "text/x-python",
   "name": "python",
   "nbconvert_exporter": "python",
   "pygments_lexer": "ipython3",
   "version": "3.5.2"
  }
 },
 "nbformat": 4,
 "nbformat_minor": 0
}
