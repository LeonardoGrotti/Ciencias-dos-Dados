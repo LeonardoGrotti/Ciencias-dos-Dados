{
 "cells": [
  {
   "cell_type": "markdown",
   "metadata": {},
   "source": [
    "# Mini Projeto 2"
   ]
  },
  {
   "cell_type": "markdown",
   "metadata": {},
   "source": [
    "### Bruno Gomes e Gabriel Moreira 2ºB"
   ]
  },
  {
   "cell_type": "markdown",
   "metadata": {},
   "source": [
    "#### Criando database"
   ]
  },
  {
   "cell_type": "code",
   "execution_count": 1,
   "metadata": {
    "collapsed": true
   },
   "outputs": [],
   "source": [
    "%matplotlib inline\n",
    "import pandas as pd\n",
    "import matplotlib.pyplot as plt\n",
    "import numpy as np\n",
    "import math\n",
    "from scipy import stats\n",
    "from scipy.stats import alpha\n"
   ]
  },
  {
   "cell_type": "code",
   "execution_count": 120,
   "metadata": {
    "collapsed": false
   },
   "outputs": [],
   "source": [
    "a = 3.57\n",
    "data = alpha.rvs(a, loc=13, scale=10, size=1000000, random_state=None)"
   ]
  },
  {
   "cell_type": "code",
   "execution_count": 121,
   "metadata": {
    "collapsed": false
   },
   "outputs": [
    {
     "name": "stdout",
     "output_type": "stream",
     "text": [
      "Média 16.1393141389\n",
      "Variância 37.7060127791\n",
      "Desvio Padrão: 6.14052219108\n"
     ]
    }
   ],
   "source": [
    "media = data.mean()\n",
    "print('Média',media)\n",
    "var = data.var()\n",
    "print('Variância',var)\n",
    "desv = var**(1/2)\n",
    "print('Desvio Padrão:',desv)"
   ]
  },
  {
   "cell_type": "code",
   "execution_count": 152,
   "metadata": {
    "collapsed": false
   },
   "outputs": [
    {
     "data": {
      "text/plain": [
       "16.158529949259091"
      ]
     },
     "execution_count": 152,
     "metadata": {},
     "output_type": "execute_result"
    }
   ],
   "source": [
    "lista_media = []\n",
    "for i in range(10000):\n",
    "    n = 2\n",
    "    soma = 0\n",
    "    x = np.random.choice(data,n)\n",
    "    for i in range(len(x)):\n",
    "        soma+=x[i]\n",
    "        media = soma/n\n",
    "    lista_media.append(media)\n",
    "\n",
    "media"
   ]
  },
  {
   "cell_type": "code",
   "execution_count": 149,
   "metadata": {
    "collapsed": false
   },
   "outputs": [],
   "source": [
    "dataframe = pd.Series(lista_media)"
   ]
  },
  {
   "cell_type": "code",
   "execution_count": 153,
   "metadata": {
    "collapsed": false
   },
   "outputs": [
    {
     "ename": "ValueError",
     "evalue": "new categories need to have the same number of items than the old categories!",
     "output_type": "error",
     "traceback": [
      "\u001b[0;31m---------------------------------------------------------------------------\u001b[0m",
      "\u001b[0;31mValueError\u001b[0m                                Traceback (most recent call last)",
      "\u001b[0;32m<ipython-input-153-275f5609ad7e>\u001b[0m in \u001b[0;36m<module>\u001b[0;34m()\u001b[0m\n\u001b[1;32m     17\u001b[0m \u001b[0mdataframe\u001b[0m\u001b[0;34m.\u001b[0m\u001b[0mvalue_counts\u001b[0m\u001b[0;34m(\u001b[0m\u001b[0;34m)\u001b[0m\u001b[0;34m\u001b[0m\u001b[0m\n\u001b[1;32m     18\u001b[0m \u001b[0mdataframe\u001b[0m \u001b[0;34m=\u001b[0m \u001b[0mdataframe\u001b[0m\u001b[0;34m.\u001b[0m\u001b[0mastype\u001b[0m\u001b[0;34m(\u001b[0m\u001b[0;34m'category'\u001b[0m\u001b[0;34m,\u001b[0m\u001b[0mordered\u001b[0m \u001b[0;34m=\u001b[0m \u001b[0;32mTrue\u001b[0m\u001b[0;34m)\u001b[0m\u001b[0;34m\u001b[0m\u001b[0m\n\u001b[0;32m---> 19\u001b[0;31m \u001b[0mdataframe\u001b[0m\u001b[0;34m.\u001b[0m\u001b[0mcat\u001b[0m\u001b[0;34m.\u001b[0m\u001b[0mcategories\u001b[0m \u001b[0;34m=\u001b[0m \u001b[0;34m(\u001b[0m\u001b[0;34m'menor que 14.5'\u001b[0m\u001b[0;34m,\u001b[0m\u001b[0;34m'14.5 a 15'\u001b[0m\u001b[0;34m,\u001b[0m\u001b[0;34m'15 a 15.5'\u001b[0m\u001b[0;34m,\u001b[0m\u001b[0;34m'15.5 a 16'\u001b[0m\u001b[0;34m,\u001b[0m\u001b[0;34m'16 a 16.5'\u001b[0m\u001b[0;34m,\u001b[0m\u001b[0;34m'16.5 a 17'\u001b[0m\u001b[0;34m,\u001b[0m\u001b[0;34m'17 a 17.5'\u001b[0m\u001b[0;34m,\u001b[0m\u001b[0;34m'17.5 a 18'\u001b[0m\u001b[0;34m,\u001b[0m\u001b[0;34m'18 a 18.5'\u001b[0m\u001b[0;34m,\u001b[0m\u001b[0;34m'18.5 a 19'\u001b[0m\u001b[0;34m,\u001b[0m\u001b[0;34m'19 a 19.5'\u001b[0m\u001b[0;34m,\u001b[0m\u001b[0;34m'19.5 a 20'\u001b[0m\u001b[0;34m,\u001b[0m\u001b[0;34m'20 ou mais'\u001b[0m\u001b[0;34m)\u001b[0m\u001b[0;34m\u001b[0m\u001b[0m\n\u001b[0m",
      "\u001b[0;32m/home/moreira/.local/lib/python3.5/site-packages/pandas/core/base.py\u001b[0m in \u001b[0;36m__setattr__\u001b[0;34m(self, key, value)\u001b[0m\n\u001b[1;32m    155\u001b[0m             raise AttributeError(\"You cannot add any new attribute '{key}'\".\n\u001b[1;32m    156\u001b[0m                                  format(key=key))\n\u001b[0;32m--> 157\u001b[0;31m         \u001b[0mobject\u001b[0m\u001b[0;34m.\u001b[0m\u001b[0m__setattr__\u001b[0m\u001b[0;34m(\u001b[0m\u001b[0mself\u001b[0m\u001b[0;34m,\u001b[0m \u001b[0mkey\u001b[0m\u001b[0;34m,\u001b[0m \u001b[0mvalue\u001b[0m\u001b[0;34m)\u001b[0m\u001b[0;34m\u001b[0m\u001b[0m\n\u001b[0m\u001b[1;32m    158\u001b[0m \u001b[0;34m\u001b[0m\u001b[0m\n\u001b[1;32m    159\u001b[0m \u001b[0;34m\u001b[0m\u001b[0m\n",
      "\u001b[0;32m/home/moreira/.local/lib/python3.5/site-packages/pandas/core/base.py\u001b[0m in \u001b[0;36m_setter\u001b[0;34m(self, new_values)\u001b[0m\n\u001b[1;32m    193\u001b[0m \u001b[0;34m\u001b[0m\u001b[0m\n\u001b[1;32m    194\u001b[0m             \u001b[0;32mdef\u001b[0m \u001b[0m_setter\u001b[0m\u001b[0;34m(\u001b[0m\u001b[0mself\u001b[0m\u001b[0;34m,\u001b[0m \u001b[0mnew_values\u001b[0m\u001b[0;34m)\u001b[0m\u001b[0;34m:\u001b[0m\u001b[0;34m\u001b[0m\u001b[0m\n\u001b[0;32m--> 195\u001b[0;31m                 \u001b[0;32mreturn\u001b[0m \u001b[0mself\u001b[0m\u001b[0;34m.\u001b[0m\u001b[0m_delegate_property_set\u001b[0m\u001b[0;34m(\u001b[0m\u001b[0mname\u001b[0m\u001b[0;34m,\u001b[0m \u001b[0mnew_values\u001b[0m\u001b[0;34m)\u001b[0m\u001b[0;34m\u001b[0m\u001b[0m\n\u001b[0m\u001b[1;32m    196\u001b[0m \u001b[0;34m\u001b[0m\u001b[0m\n\u001b[1;32m    197\u001b[0m             \u001b[0m_getter\u001b[0m\u001b[0;34m.\u001b[0m\u001b[0m__name__\u001b[0m \u001b[0;34m=\u001b[0m \u001b[0mname\u001b[0m\u001b[0;34m\u001b[0m\u001b[0m\n",
      "\u001b[0;32m/home/moreira/.local/lib/python3.5/site-packages/pandas/core/categorical.py\u001b[0m in \u001b[0;36m_delegate_property_set\u001b[0;34m(self, name, new_values)\u001b[0m\n\u001b[1;32m   1866\u001b[0m \u001b[0;34m\u001b[0m\u001b[0m\n\u001b[1;32m   1867\u001b[0m     \u001b[0;32mdef\u001b[0m \u001b[0m_delegate_property_set\u001b[0m\u001b[0;34m(\u001b[0m\u001b[0mself\u001b[0m\u001b[0;34m,\u001b[0m \u001b[0mname\u001b[0m\u001b[0;34m,\u001b[0m \u001b[0mnew_values\u001b[0m\u001b[0;34m)\u001b[0m\u001b[0;34m:\u001b[0m\u001b[0;34m\u001b[0m\u001b[0m\n\u001b[0;32m-> 1868\u001b[0;31m         \u001b[0;32mreturn\u001b[0m \u001b[0msetattr\u001b[0m\u001b[0;34m(\u001b[0m\u001b[0mself\u001b[0m\u001b[0;34m.\u001b[0m\u001b[0mcategorical\u001b[0m\u001b[0;34m,\u001b[0m \u001b[0mname\u001b[0m\u001b[0;34m,\u001b[0m \u001b[0mnew_values\u001b[0m\u001b[0;34m)\u001b[0m\u001b[0;34m\u001b[0m\u001b[0m\n\u001b[0m\u001b[1;32m   1869\u001b[0m \u001b[0;34m\u001b[0m\u001b[0m\n\u001b[1;32m   1870\u001b[0m     \u001b[0;34m@\u001b[0m\u001b[0mproperty\u001b[0m\u001b[0;34m\u001b[0m\u001b[0m\n",
      "\u001b[0;32m/home/moreira/.local/lib/python3.5/site-packages/pandas/core/categorical.py\u001b[0m in \u001b[0;36m_set_categories\u001b[0;34m(self, categories, fastpath)\u001b[0m\n\u001b[1;32m    527\u001b[0m         if (not fastpath and self._categories is not None and\n\u001b[1;32m    528\u001b[0m                 len(categories) != len(self._categories)):\n\u001b[0;32m--> 529\u001b[0;31m             raise ValueError(\"new categories need to have the same number of \"\n\u001b[0m\u001b[1;32m    530\u001b[0m                              \"items than the old categories!\")\n\u001b[1;32m    531\u001b[0m \u001b[0;34m\u001b[0m\u001b[0m\n",
      "\u001b[0;31mValueError\u001b[0m: new categories need to have the same number of items than the old categories!"
     ]
    }
   ],
   "source": [
    "dataframe[(dataframe<14.5)] = 1\n",
    "dataframe[(dataframe>=14.5) & (dataframe<15)] = 2\n",
    "dataframe[(dataframe>=15) & (dataframe<15.5)] = 3\n",
    "dataframe[(dataframe>=15.5) & (dataframe<16)] = 4\n",
    "dataframe[(dataframe>=16) & (dataframe<16.5)] = 5\n",
    "dataframe[(dataframe>=16.5) & (dataframe<17)] = 6\n",
    "dataframe[(dataframe>=17) & (dataframe<17.5)] = 7\n",
    "dataframe[(dataframe>=17.5) & (dataframe<18)] = 8\n",
    "dataframe[(dataframe>=18) & (dataframe<18.5)] = 9\n",
    "dataframe[(dataframe>=18.5) & (dataframe<19)] = 10\n",
    "dataframe[(dataframe>=19) & (dataframe<19.5)] = 11\n",
    "dataframe[(dataframe>=19.5) & (dataframe<=20)] = 12\n",
    "dataframe[(dataframe>20)] = 13\n",
    "\n",
    "\n",
    "\n",
    "dataframe.value_counts()\n",
    "dataframe = dataframe.astype('category',ordered = True)\n",
    "dataframe.cat.categories = ('menor que 14.5','14.5 a 15','15 a 15.5','15.5 a 16','16 a 16.5','16.5 a 17','17 a 17.5','17.5 a 18','18 a 18.5','18.5 a 19','19 a 19.5','19.5 a 20','20 ou mais')"
   ]
  },
  {
   "cell_type": "code",
   "execution_count": null,
   "metadata": {
    "collapsed": true
   },
   "outputs": [],
   "source": []
  },
  {
   "cell_type": "code",
   "execution_count": null,
   "metadata": {
    "collapsed": true
   },
   "outputs": [],
   "source": []
  }
 ],
 "metadata": {
  "kernelspec": {
   "display_name": "Python 3",
   "language": "python",
   "name": "python3"
  },
  "language_info": {
   "codemirror_mode": {
    "name": "ipython",
    "version": 3
   },
   "file_extension": ".py",
   "mimetype": "text/x-python",
   "name": "python",
   "nbconvert_exporter": "python",
   "pygments_lexer": "ipython3",
   "version": "3.5.2"
  }
 },
 "nbformat": 4,
 "nbformat_minor": 1
}
